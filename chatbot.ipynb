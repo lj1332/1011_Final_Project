{
  "nbformat": 4,
  "nbformat_minor": 0,
  "metadata": {
    "colab": {
      "provenance": []
    },
    "kernelspec": {
      "name": "python3",
      "display_name": "Python 3"
    },
    "language_info": {
      "name": "python"
    }
  },
  "cells": [
    {
      "cell_type": "markdown",
      "source": [
        "## Setup"
      ],
      "metadata": {
        "id": "T42dVsMZHUBW"
      }
    },
    {
      "cell_type": "code",
      "source": [
        "pip install -r requirements.txt"
      ],
      "metadata": {
        "id": "Xc9CNxnhuIPA"
      },
      "execution_count": null,
      "outputs": []
    },
    {
      "cell_type": "code",
      "source": [
        "from torch import cuda, bfloat16\n",
        "import transformers"
      ],
      "metadata": {
        "id": "JWp5EJvr4Zhd"
      },
      "execution_count": 10,
      "outputs": []
    },
    {
      "cell_type": "code",
      "source": [
        "!pip install -qU transformers accelerate einops xformers bitsandbytes sentence_transformers"
      ],
      "metadata": {
        "id": "aSWMi1uN4wwd"
      },
      "execution_count": null,
      "outputs": []
    },
    {
      "cell_type": "code",
      "execution_count": 5,
      "metadata": {
        "id": "G_GVebSwdITX"
      },
      "outputs": [],
      "source": [
        "import langchain\n",
        "import os\n",
        "import pickle\n",
        "import time\n",
        "import openai\n",
        "import pandas as pd"
      ]
    },
    {
      "cell_type": "code",
      "source": [
        "from langchain import OpenAI\n",
        "from langchain.chains import RetrievalQAWithSourcesChain\n",
        "from langchain.evaluation.qa import QAEvalChain\n",
        "from langchain.chains.qa_with_sources.loading import load_qa_with_sources_chain\n",
        "from langchain.text_splitter import RecursiveCharacterTextSplitter, CharacterTextSplitter\n",
        "from langchain.document_loaders import UnstructuredURLLoader\n",
        "from langchain.embeddings import OpenAIEmbeddings\n",
        "from langchain.vectorstores import FAISS, Chroma\n",
        "import requests\n",
        "from bs4 import BeautifulSoup\n",
        "import torch\n",
        "import numpy as np\n",
        "from google.colab import userdata"
      ],
      "metadata": {
        "id": "_WwERsrAd0YI"
      },
      "execution_count": 6,
      "outputs": []
    },
    {
      "cell_type": "code",
      "source": [
        "os.environ['OPENAI_API_KEY'] = userdata.get('OPENAI_API_KEY')"
      ],
      "metadata": {
        "id": "GiaFjIZEgiHh"
      },
      "execution_count": 7,
      "outputs": []
    },
    {
      "cell_type": "code",
      "source": [
        "llm = OpenAI(temperature=0.9, max_tokens=500, model = 'text-davinci-003')"
      ],
      "metadata": {
        "id": "QeYW1QgMgmSo"
      },
      "execution_count": 8,
      "outputs": []
    },
    {
      "cell_type": "code",
      "source": [
        "openai.api_key = userdata.get('OPENAI_API_KEY')\n",
        "\n",
        "def ask_openai(question, model=\"text-davinci-003\", temperature=0.9, max_tokens=500):\n",
        "    response = openai.Completion.create(\n",
        "        engine=model,\n",
        "        prompt=question,\n",
        "        temperature=temperature,\n",
        "        max_tokens=max_tokens\n",
        "    )\n",
        "    return response.choices[0].text.strip()"
      ],
      "metadata": {
        "id": "2mFoMAenkGpO"
      },
      "execution_count": 9,
      "outputs": []
    },
    {
      "cell_type": "markdown",
      "source": [
        "## Load Data"
      ],
      "metadata": {
        "id": "4RMnf6KOhr9c"
      }
    },
    {
      "cell_type": "code",
      "source": [
        "def get_links_from_website(key_word, pages_num):\n",
        "  links = []\n",
        "  key_word_plus = key_word.replace(' ', '+')\n",
        "  key_word_dash = key_word.replace(' ', '-')\n",
        "  for page_index in range(1, pages_num + 1):\n",
        "    url = f\"https://www.analyticsvidhya.com/page/{page_index}/?s={key_word_plus}\"\n",
        "\n",
        "    response = requests.get(url)\n",
        "\n",
        "    if response.status_code == 200:\n",
        "        soup = BeautifulSoup(response.text, 'html.parser')\n",
        "\n",
        "        anchor_tags = soup.find_all('a')\n",
        "\n",
        "        for tag in anchor_tags:\n",
        "            href = tag.get('href')\n",
        "            if href and 'analyticsvidhya.com/blog/' in href and key_word_dash in href:\n",
        "                links.append(href)\n",
        "  return links"
      ],
      "metadata": {
        "id": "OQBBuMR6uUf1"
      },
      "execution_count": 12,
      "outputs": []
    },
    {
      "cell_type": "code",
      "source": [
        "def get_url_data(urls):\n",
        "  url_loaders = UnstructuredURLLoader(urls= urls)\n",
        "  url_data = url_loaders.load()\n",
        "  return url_data"
      ],
      "metadata": {
        "id": "jgRVmMxHhwhz"
      },
      "execution_count": 13,
      "outputs": []
    },
    {
      "cell_type": "markdown",
      "source": [
        "## Split Data to create chunks"
      ],
      "metadata": {
        "id": "a_P-FMPjiKk1"
      }
    },
    {
      "cell_type": "code",
      "source": [
        "## default separator for recursivecharactertextsplitter - separators=[\"\\n\\n\", \"\\n\", \" \", \"\"]\n",
        "r_splitter = RecursiveCharacterTextSplitter(\n",
        "    chunk_size=1000,\n",
        "    chunk_overlap=200\n",
        ")\n",
        "c_splitter = CharacterTextSplitter(\n",
        "    chunk_size=1000,\n",
        "    chunk_overlap=200,\n",
        "    separator = ' '\n",
        ")\n",
        "def split_data(splitter, url_data):\n",
        "  return splitter.split_documents(url_data)"
      ],
      "metadata": {
        "id": "bJsrDl_Nh-79"
      },
      "execution_count": 14,
      "outputs": []
    },
    {
      "cell_type": "markdown",
      "source": [
        "## Create embeddings for these chunks and save them to FAISS index"
      ],
      "metadata": {
        "id": "sznk_OhVidEu"
      }
    },
    {
      "cell_type": "code",
      "source": [
        "open_ai_embeddings = OpenAIEmbeddings()\n",
        "\n",
        "def get_embeddings(embeddings, url_docs):\n",
        "  return FAISS.from_documents(url_docs, embeddings)"
      ],
      "metadata": {
        "id": "67ktUcWTiZkn"
      },
      "execution_count": 15,
      "outputs": []
    },
    {
      "cell_type": "markdown",
      "source": [
        "##  Retrieve similar embeddings for a given question and call LLM to retrieve final answer"
      ],
      "metadata": {
        "id": "ePzTHjMwi4NL"
      }
    },
    {
      "cell_type": "code",
      "source": [
        "class FaissRetriever:\n",
        "    def __init__(self, faiss_index, documents):\n",
        "        self.faiss_index = faiss_index\n",
        "        self.documents = documents\n",
        "\n",
        "    def search(self, query_embedding, k=10):\n",
        "        # Assuming query_embedding is already computed and is a 1D numpy array\n",
        "        distances, indices = self.faiss_index.search(np.array([query_embedding]), k)\n",
        "        return [self.documents[i] for i in indices[0]]"
      ],
      "metadata": {
        "id": "fiEM7qJRi-PP"
      },
      "execution_count": 16,
      "outputs": []
    },
    {
      "cell_type": "code",
      "source": [
        "rf_blog_links = get_links_from_website('random forest', 1)\n",
        "rf_url_data = get_url_data(rf_blog_links)\n",
        "rf_url_docs = split_data(r_splitter, rf_url_data)\n",
        "rf_vector_index = get_embeddings(open_ai_embeddings, rf_url_docs)\n",
        "rf_faiss_retriever = FaissRetriever(rf_vector_index , rf_url_docs)\n",
        "rf_chain = RetrievalQAWithSourcesChain.from_llm(llm=llm, retriever=rf_vector_index.as_retriever())"
      ],
      "metadata": {
        "id": "TA3Szzgvl9QY"
      },
      "execution_count": 18,
      "outputs": []
    },
    {
      "cell_type": "markdown",
      "source": [
        "## Load question dataset"
      ],
      "metadata": {
        "id": "e-YDYhfA7HWv"
      }
    },
    {
      "cell_type": "code",
      "source": [
        "# from google.colab import auth\n",
        "# auth.authenticate_user()\n",
        "\n",
        "# from google.auth import default\n",
        "# import gspread\n",
        "# import pandas as pd\n",
        "\n",
        "# creds, _ = default()\n",
        "# gc = gspread.authorize(creds)\n"
      ],
      "metadata": {
        "id": "8xqTCMoi7MjU"
      },
      "execution_count": 18,
      "outputs": []
    },
    {
      "cell_type": "code",
      "source": [
        "# question_sheet_url = 'https://docs.google.com/spreadsheets/d/1UiDsDcRTrWp9McZTTt-BcS3bhex4h-lRmjXX8ooB6RY/edit#gid=0'\n",
        "# question_workbook = gc.open_by_url(question_sheet_url)"
      ],
      "metadata": {
        "id": "s8CJrilp7UbM"
      },
      "execution_count": 19,
      "outputs": []
    },
    {
      "cell_type": "code",
      "source": [
        "# question_sheet = question_workbook.worksheet('ML Questions')  # Replace with your sheet name\n",
        "# question_data = question_sheet.get_all_records()\n",
        "# question_df = pd.DataFrame(question_data)"
      ],
      "metadata": {
        "id": "_hmc6qwN71HE"
      },
      "execution_count": 20,
      "outputs": []
    },
    {
      "cell_type": "code",
      "source": [
        "question_df = pd.read_csv('ML_interview_questions.csv')"
      ],
      "metadata": {
        "id": "w-m14PhpqRcA"
      },
      "execution_count": 22,
      "outputs": []
    },
    {
      "cell_type": "code",
      "source": [
        "chain = RetrievalQAWithSourcesChain.from_llm(llm=llm, retriever=rf_vector_index.as_retriever())"
      ],
      "metadata": {
        "id": "mC6Ysf9v8PDw"
      },
      "execution_count": 21,
      "outputs": []
    },
    {
      "cell_type": "code",
      "source": [
        "query = \"what is Random Forest?\"\n",
        "\n",
        "langchain.debug=True\n",
        "\n",
        "chain({\"question\": query}, return_only_outputs=True)['answer']"
      ],
      "metadata": {
        "colab": {
          "base_uri": "https://localhost:8080/",
          "height": 1000
        },
        "id": "40CXaztKjKFx",
        "outputId": "39c114ff-017f-48ee-8acd-4335df28c4db"
      },
      "execution_count": 30,
      "outputs": [
        {
          "output_type": "stream",
          "name": "stdout",
          "text": [
            "\u001b[32;1m\u001b[1;3m[chain/start]\u001b[0m \u001b[1m[1:chain:RetrievalQAWithSourcesChain] Entering Chain run with input:\n",
            "\u001b[0m{\n",
            "  \"question\": \"what is Random Forest?\"\n",
            "}\n",
            "\u001b[32;1m\u001b[1;3m[chain/start]\u001b[0m \u001b[1m[1:chain:RetrievalQAWithSourcesChain > 3:chain:MapReduceDocumentsChain] Entering Chain run with input:\n",
            "\u001b[0m[inputs]\n",
            "\u001b[32;1m\u001b[1;3m[chain/start]\u001b[0m \u001b[1m[1:chain:RetrievalQAWithSourcesChain > 3:chain:MapReduceDocumentsChain > 4:chain:LLMChain] Entering Chain run with input:\n",
            "\u001b[0m{\n",
            "  \"input_list\": [\n",
            "    {\n",
            "      \"context\": \"Random Forest is a supervised machine-learning algorithm made up of decision trees.\\n\\nRandom Forest is used for both classification and regression problems.\\n\\nFrequently Asked Questions\\n\\nA. Random Forest is a supervised learning algorithm that works on the concept of bagging. In bagging, a group of models is trained on different subsets of the dataset, and the final output is generated by collating the outputs of all the different models. In the case of random forest, the base model is a decision tree.\\n\\nA. The following steps will tell you how random forest works:1. Create Bootstrap Samples: Construct different samples of the dataset with replacements by randomly selecting the rows and columns from the dataset. These are known as bootstrap samples.2. Build Decision Trees: Construct the decision tree on each bootstrap sample as per the hyperparameters.3. Generate Final Output: Combine the output of all the decision trees to generate the final output.\",\n",
            "      \"question\": \"what is Random Forest?\"\n",
            "    },\n",
            "    {\n",
            "      \"context\": \"Random forest is an ensemble learning algorithm that uses a collection of decision trees to make predictions. Each decision tree is trained on a different subset of the data, and the predictions of all the trees are averaged to produce the final prediction. This makes random forest very robust to overfitting and able to handle complex relationships between the features and the target variable.Regression is a type of supervised learning algorithm that learns a function to map from the input features to the target variable. There are many different types of regression algorithms, such as linear regression, logistic regression, and decision trees. Each type of regression algorithm makes different assumptions about the relationship between the features and the target variable.\\n\\nThe media shown in this article are not owned by Analytics Vidhya and are used at the Author’s discretion.\\n\\nRelated\\n\\nblogathon\\n\\nrandom forest\\n\\nMachine Learning\\n\\nBecome a full stack data scientist\",\n",
            "      \"question\": \"what is Random Forest?\"\n",
            "    },\n",
            "    {\n",
            "      \"context\": \"Let’s get started,\\n\\n1. What do you mean by Random Forest Algorithm?\\n\\nRandom forest is an ensemble machine learning technique that averages several decision trees on different parts of the same training set, with the objective of overcoming the overfitting problem of the individual decision trees.\\n\\nIn other words, a random forest algorithm is used for both classification and regression problem statements that operate by constructing a lot of decision trees at training time.\\n\\nImage Source: Google Images\\n\\n2. Why is Random Forest Algorithm popular?\\n\\nRandom Forest is one of the most popular and widely used machine learning algorithms for classification problems. It can also be used for the regression problem statements but it mainly performs well on the classification model.\",\n",
            "      \"question\": \"what is Random Forest?\"\n",
            "    },\n",
            "    {\n",
            "      \"context\": \"A. Random Forest tends to have a low bias since it works on the concept of bagging. It works well even with a dataset with a large no. of features since it works on a subset of features. Moreover, it is faster to train as the trees are independent of each other, making the training process parallelizable.\\n\\nA. Random Forest is a popular machine learning algorithm used for classification and regression tasks due to its high accuracy, robustness, feature importance, versatility, and scalability. Random Forest reduces overfitting by averaging multiple decision trees and is less sensitive to noise and outliers in the data. It provides a measure of feature importance, which can be useful for feature selection and data interpretation.\",\n",
            "      \"question\": \"what is Random Forest?\"\n",
            "    }\n",
            "  ]\n",
            "}\n",
            "\u001b[32;1m\u001b[1;3m[llm/start]\u001b[0m \u001b[1m[1:chain:RetrievalQAWithSourcesChain > 3:chain:MapReduceDocumentsChain > 4:chain:LLMChain > 5:llm:OpenAI] Entering LLM run with input:\n",
            "\u001b[0m{\n",
            "  \"prompts\": [\n",
            "    \"Use the following portion of a long document to see if any of the text is relevant to answer the question. \\nReturn any relevant text verbatim.\\nRandom Forest is a supervised machine-learning algorithm made up of decision trees.\\n\\nRandom Forest is used for both classification and regression problems.\\n\\nFrequently Asked Questions\\n\\nA. Random Forest is a supervised learning algorithm that works on the concept of bagging. In bagging, a group of models is trained on different subsets of the dataset, and the final output is generated by collating the outputs of all the different models. In the case of random forest, the base model is a decision tree.\\n\\nA. The following steps will tell you how random forest works:1. Create Bootstrap Samples: Construct different samples of the dataset with replacements by randomly selecting the rows and columns from the dataset. These are known as bootstrap samples.2. Build Decision Trees: Construct the decision tree on each bootstrap sample as per the hyperparameters.3. Generate Final Output: Combine the output of all the decision trees to generate the final output.\\nQuestion: what is Random Forest?\\nRelevant text, if any:\"\n",
            "  ]\n",
            "}\n",
            "\u001b[32;1m\u001b[1;3m[llm/start]\u001b[0m \u001b[1m[1:chain:RetrievalQAWithSourcesChain > 3:chain:MapReduceDocumentsChain > 4:chain:LLMChain > 6:llm:OpenAI] Entering LLM run with input:\n",
            "\u001b[0m{\n",
            "  \"prompts\": [\n",
            "    \"Use the following portion of a long document to see if any of the text is relevant to answer the question. \\nReturn any relevant text verbatim.\\nRandom forest is an ensemble learning algorithm that uses a collection of decision trees to make predictions. Each decision tree is trained on a different subset of the data, and the predictions of all the trees are averaged to produce the final prediction. This makes random forest very robust to overfitting and able to handle complex relationships between the features and the target variable.Regression is a type of supervised learning algorithm that learns a function to map from the input features to the target variable. There are many different types of regression algorithms, such as linear regression, logistic regression, and decision trees. Each type of regression algorithm makes different assumptions about the relationship between the features and the target variable.\\n\\nThe media shown in this article are not owned by Analytics Vidhya and are used at the Author’s discretion.\\n\\nRelated\\n\\nblogathon\\n\\nrandom forest\\n\\nMachine Learning\\n\\nBecome a full stack data scientist\\nQuestion: what is Random Forest?\\nRelevant text, if any:\"\n",
            "  ]\n",
            "}\n",
            "\u001b[32;1m\u001b[1;3m[llm/start]\u001b[0m \u001b[1m[1:chain:RetrievalQAWithSourcesChain > 3:chain:MapReduceDocumentsChain > 4:chain:LLMChain > 7:llm:OpenAI] Entering LLM run with input:\n",
            "\u001b[0m{\n",
            "  \"prompts\": [\n",
            "    \"Use the following portion of a long document to see if any of the text is relevant to answer the question. \\nReturn any relevant text verbatim.\\nLet’s get started,\\n\\n1. What do you mean by Random Forest Algorithm?\\n\\nRandom forest is an ensemble machine learning technique that averages several decision trees on different parts of the same training set, with the objective of overcoming the overfitting problem of the individual decision trees.\\n\\nIn other words, a random forest algorithm is used for both classification and regression problem statements that operate by constructing a lot of decision trees at training time.\\n\\nImage Source: Google Images\\n\\n2. Why is Random Forest Algorithm popular?\\n\\nRandom Forest is one of the most popular and widely used machine learning algorithms for classification problems. It can also be used for the regression problem statements but it mainly performs well on the classification model.\\nQuestion: what is Random Forest?\\nRelevant text, if any:\"\n",
            "  ]\n",
            "}\n",
            "\u001b[32;1m\u001b[1;3m[llm/start]\u001b[0m \u001b[1m[1:chain:RetrievalQAWithSourcesChain > 3:chain:MapReduceDocumentsChain > 4:chain:LLMChain > 8:llm:OpenAI] Entering LLM run with input:\n",
            "\u001b[0m{\n",
            "  \"prompts\": [\n",
            "    \"Use the following portion of a long document to see if any of the text is relevant to answer the question. \\nReturn any relevant text verbatim.\\nA. Random Forest tends to have a low bias since it works on the concept of bagging. It works well even with a dataset with a large no. of features since it works on a subset of features. Moreover, it is faster to train as the trees are independent of each other, making the training process parallelizable.\\n\\nA. Random Forest is a popular machine learning algorithm used for classification and regression tasks due to its high accuracy, robustness, feature importance, versatility, and scalability. Random Forest reduces overfitting by averaging multiple decision trees and is less sensitive to noise and outliers in the data. It provides a measure of feature importance, which can be useful for feature selection and data interpretation.\\nQuestion: what is Random Forest?\\nRelevant text, if any:\"\n",
            "  ]\n",
            "}\n",
            "\u001b[36;1m\u001b[1;3m[llm/end]\u001b[0m \u001b[1m[1:chain:RetrievalQAWithSourcesChain > 3:chain:MapReduceDocumentsChain > 4:chain:LLMChain > 5:llm:OpenAI] [1.54s] Exiting LLM run with output:\n",
            "\u001b[0m{\n",
            "  \"generations\": [\n",
            "    [\n",
            "      {\n",
            "        \"text\": \"\\nRandom Forest is a supervised machine-learning algorithm made up of decision trees. Random Forest is used for both classification and regression problems.\",\n",
            "        \"generation_info\": {\n",
            "          \"finish_reason\": \"stop\",\n",
            "          \"logprobs\": null\n",
            "        }\n",
            "      }\n",
            "    ]\n",
            "  ],\n",
            "  \"llm_output\": {\n",
            "    \"token_usage\": {\n",
            "      \"completion_tokens\": 195,\n",
            "      \"prompt_tokens\": 872,\n",
            "      \"total_tokens\": 1067\n",
            "    },\n",
            "    \"model_name\": \"text-davinci-003\"\n",
            "  },\n",
            "  \"run\": null\n",
            "}\n",
            "\u001b[36;1m\u001b[1;3m[llm/end]\u001b[0m \u001b[1m[1:chain:RetrievalQAWithSourcesChain > 3:chain:MapReduceDocumentsChain > 4:chain:LLMChain > 6:llm:OpenAI] [1.53s] Exiting LLM run with output:\n",
            "\u001b[0m{\n",
            "  \"generations\": [\n",
            "    [\n",
            "      {\n",
            "        \"text\": \" \\nRandom forest is an ensemble learning algorithm that uses a collection of decision trees to make predictions. Each decision tree is trained on a different subset of the data, and the predictions of all the trees are averaged to produce the final prediction. This makes random forest very robust to overfitting and able to handle complex relationships between the features and the target variable.\",\n",
            "        \"generation_info\": {\n",
            "          \"finish_reason\": \"stop\",\n",
            "          \"logprobs\": null\n",
            "        }\n",
            "      }\n",
            "    ]\n",
            "  ],\n",
            "  \"llm_output\": {\n",
            "    \"token_usage\": {},\n",
            "    \"model_name\": \"text-davinci-003\"\n",
            "  },\n",
            "  \"run\": null\n",
            "}\n",
            "\u001b[36;1m\u001b[1;3m[llm/end]\u001b[0m \u001b[1m[1:chain:RetrievalQAWithSourcesChain > 3:chain:MapReduceDocumentsChain > 4:chain:LLMChain > 7:llm:OpenAI] [1.53s] Exiting LLM run with output:\n",
            "\u001b[0m{\n",
            "  \"generations\": [\n",
            "    [\n",
            "      {\n",
            "        \"text\": \" \\n\\\"Random forest is an ensemble machine learning technique that averages several decision trees on different parts of the same training set, with the objective of overcoming the overfitting problem of the individual decision trees.\\\"\",\n",
            "        \"generation_info\": {\n",
            "          \"finish_reason\": \"stop\",\n",
            "          \"logprobs\": null\n",
            "        }\n",
            "      }\n",
            "    ]\n",
            "  ],\n",
            "  \"llm_output\": {\n",
            "    \"token_usage\": {},\n",
            "    \"model_name\": \"text-davinci-003\"\n",
            "  },\n",
            "  \"run\": null\n",
            "}\n",
            "\u001b[36;1m\u001b[1;3m[llm/end]\u001b[0m \u001b[1m[1:chain:RetrievalQAWithSourcesChain > 3:chain:MapReduceDocumentsChain > 4:chain:LLMChain > 8:llm:OpenAI] [1.53s] Exiting LLM run with output:\n",
            "\u001b[0m{\n",
            "  \"generations\": [\n",
            "    [\n",
            "      {\n",
            "        \"text\": \" \\nRandom Forest is a popular machine learning algorithm used for classification and regression tasks due to its high accuracy, robustness, feature importance, versatility, and scalability. Random Forest reduces overfitting by averaging multiple decision trees and is less sensitive to noise and outliers in the data.\",\n",
            "        \"generation_info\": {\n",
            "          \"finish_reason\": \"stop\",\n",
            "          \"logprobs\": null\n",
            "        }\n",
            "      }\n",
            "    ]\n",
            "  ],\n",
            "  \"llm_output\": {\n",
            "    \"token_usage\": {},\n",
            "    \"model_name\": \"text-davinci-003\"\n",
            "  },\n",
            "  \"run\": null\n",
            "}\n",
            "\u001b[36;1m\u001b[1;3m[chain/end]\u001b[0m \u001b[1m[1:chain:RetrievalQAWithSourcesChain > 3:chain:MapReduceDocumentsChain > 4:chain:LLMChain] [1.55s] Exiting Chain run with output:\n",
            "\u001b[0m{\n",
            "  \"outputs\": [\n",
            "    {\n",
            "      \"text\": \"\\nRandom Forest is a supervised machine-learning algorithm made up of decision trees. Random Forest is used for both classification and regression problems.\"\n",
            "    },\n",
            "    {\n",
            "      \"text\": \" \\nRandom forest is an ensemble learning algorithm that uses a collection of decision trees to make predictions. Each decision tree is trained on a different subset of the data, and the predictions of all the trees are averaged to produce the final prediction. This makes random forest very robust to overfitting and able to handle complex relationships between the features and the target variable.\"\n",
            "    },\n",
            "    {\n",
            "      \"text\": \" \\n\\\"Random forest is an ensemble machine learning technique that averages several decision trees on different parts of the same training set, with the objective of overcoming the overfitting problem of the individual decision trees.\\\"\"\n",
            "    },\n",
            "    {\n",
            "      \"text\": \" \\nRandom Forest is a popular machine learning algorithm used for classification and regression tasks due to its high accuracy, robustness, feature importance, versatility, and scalability. Random Forest reduces overfitting by averaging multiple decision trees and is less sensitive to noise and outliers in the data.\"\n",
            "    }\n",
            "  ]\n",
            "}\n",
            "\u001b[32;1m\u001b[1;3m[chain/start]\u001b[0m \u001b[1m[1:chain:RetrievalQAWithSourcesChain > 3:chain:MapReduceDocumentsChain > 9:chain:LLMChain] Entering Chain run with input:\n",
            "\u001b[0m{\n",
            "  \"question\": \"what is Random Forest?\",\n",
            "  \"summaries\": \"Content: \\nRandom Forest is a supervised machine-learning algorithm made up of decision trees. Random Forest is used for both classification and regression problems.\\nSource: https://www.analyticsvidhya.com/blog/2021/06/understanding-random-forest/\\n\\nContent:  \\nRandom forest is an ensemble learning algorithm that uses a collection of decision trees to make predictions. Each decision tree is trained on a different subset of the data, and the predictions of all the trees are averaged to produce the final prediction. This makes random forest very robust to overfitting and able to handle complex relationships between the features and the target variable.\\nSource: https://www.analyticsvidhya.com/blog/2021/06/understanding-random-forest/\\n\\nContent:  \\n\\\"Random forest is an ensemble machine learning technique that averages several decision trees on different parts of the same training set, with the objective of overcoming the overfitting problem of the individual decision trees.\\\"\\nSource: https://www.analyticsvidhya.com/blog/2021/05/bagging-25-questions-to-test-your-skills-on-random-forest-algorithm/\\n\\nContent:  \\nRandom Forest is a popular machine learning algorithm used for classification and regression tasks due to its high accuracy, robustness, feature importance, versatility, and scalability. Random Forest reduces overfitting by averaging multiple decision trees and is less sensitive to noise and outliers in the data.\\nSource: https://www.analyticsvidhya.com/blog/2021/06/understanding-random-forest/\"\n",
            "}\n",
            "\u001b[32;1m\u001b[1;3m[llm/start]\u001b[0m \u001b[1m[1:chain:RetrievalQAWithSourcesChain > 3:chain:MapReduceDocumentsChain > 9:chain:LLMChain > 10:llm:OpenAI] Entering LLM run with input:\n",
            "\u001b[0m{\n",
            "  \"prompts\": [\n",
            "    \"Given the following extracted parts of a long document and a question, create a final answer with references (\\\"SOURCES\\\"). \\nIf you don't know the answer, just say that you don't know. Don't try to make up an answer.\\nALWAYS return a \\\"SOURCES\\\" part in your answer.\\n\\nQUESTION: Which state/country's law governs the interpretation of the contract?\\n=========\\nContent: This Agreement is governed by English law and the parties submit to the exclusive jurisdiction of the English courts in  relation to any dispute (contractual or non-contractual) concerning this Agreement save that either party may apply to any court for an  injunction or other relief to protect its Intellectual Property Rights.\\nSource: 28-pl\\nContent: No Waiver. Failure or delay in exercising any right or remedy under this Agreement shall not constitute a waiver of such (or any other)  right or remedy.\\n\\n11.7 Severability. The invalidity, illegality or unenforceability of any term (or part of a term) of this Agreement shall not affect the continuation  in force of the remainder of the term (if any) and this Agreement.\\n\\n11.8 No Agency. Except as expressly stated otherwise, nothing in this Agreement shall create an agency, partnership or joint venture of any  kind between the parties.\\n\\n11.9 No Third-Party Beneficiaries.\\nSource: 30-pl\\nContent: (b) if Google believes, in good faith, that the Distributor has violated or caused Google to violate any Anti-Bribery Laws (as  defined in Clause 8.5) or that such a violation is reasonably likely to occur,\\nSource: 4-pl\\n=========\\nFINAL ANSWER: This Agreement is governed by English law.\\nSOURCES: 28-pl\\n\\nQUESTION: What did the president say about Michael Jackson?\\n=========\\nContent: Madam Speaker, Madam Vice President, our First Lady and Second Gentleman. Members of Congress and the Cabinet. Justices of the Supreme Court. My fellow Americans.  \\n\\nLast year COVID-19 kept us apart. This year we are finally together again. \\n\\nTonight, we meet as Democrats Republicans and Independents. But most importantly as Americans. \\n\\nWith a duty to one another to the American people to the Constitution. \\n\\nAnd with an unwavering resolve that freedom will always triumph over tyranny. \\n\\nSix days ago, Russia’s Vladimir Putin sought to shake the foundations of the free world thinking he could make it bend to his menacing ways. But he badly miscalculated. \\n\\nHe thought he could roll into Ukraine and the world would roll over. Instead he met a wall of strength he never imagined. \\n\\nHe met the Ukrainian people. \\n\\nFrom President Zelenskyy to every Ukrainian, their fearlessness, their courage, their determination, inspires the world. \\n\\nGroups of citizens blocking tanks with their bodies. Everyone from students to retirees teachers turned soldiers defending their homeland.\\nSource: 0-pl\\nContent: And we won’t stop. \\n\\nWe have lost so much to COVID-19. Time with one another. And worst of all, so much loss of life. \\n\\nLet’s use this moment to reset. Let’s stop looking at COVID-19 as a partisan dividing line and see it for what it is: A God-awful disease.  \\n\\nLet’s stop seeing each other as enemies, and start seeing each other for who we really are: Fellow Americans.  \\n\\nWe can’t change how divided we’ve been. But we can change how we move forward—on COVID-19 and other issues we must face together. \\n\\nI recently visited the New York City Police Department days after the funerals of Officer Wilbert Mora and his partner, Officer Jason Rivera. \\n\\nThey were responding to a 9-1-1 call when a man shot and killed them with a stolen gun. \\n\\nOfficer Mora was 27 years old. \\n\\nOfficer Rivera was 22. \\n\\nBoth Dominican Americans who’d grown up on the same streets they later chose to patrol as police officers. \\n\\nI spoke with their families and told them that we are forever in debt for their sacrifice, and we will carry on their mission to restore the trust and safety every community deserves.\\nSource: 24-pl\\nContent: And a proud Ukrainian people, who have known 30 years  of independence, have repeatedly shown that they will not tolerate anyone who tries to take their country backwards.  \\n\\nTo all Americans, I will be honest with you, as I’ve always promised. A Russian dictator, invading a foreign country, has costs around the world. \\n\\nAnd I’m taking robust action to make sure the pain of our sanctions  is targeted at Russia’s economy. And I will use every tool at our disposal to protect American businesses and consumers. \\n\\nTonight, I can announce that the United States has worked with 30 other countries to release 60 Million barrels of oil from reserves around the world.  \\n\\nAmerica will lead that effort, releasing 30 Million barrels from our own Strategic Petroleum Reserve. And we stand ready to do more if necessary, unified with our allies.  \\n\\nThese steps will help blunt gas prices here at home. And I know the news about what’s happening can seem alarming. \\n\\nBut I want you to know that we are going to be okay.\\nSource: 5-pl\\nContent: More support for patients and families. \\n\\nTo get there, I call on Congress to fund ARPA-H, the Advanced Research Projects Agency for Health. \\n\\nIt’s based on DARPA—the Defense Department project that led to the Internet, GPS, and so much more.  \\n\\nARPA-H will have a singular purpose—to drive breakthroughs in cancer, Alzheimer’s, diabetes, and more. \\n\\nA unity agenda for the nation. \\n\\nWe can do this. \\n\\nMy fellow Americans—tonight , we have gathered in a sacred space—the citadel of our democracy. \\n\\nIn this Capitol, generation after generation, Americans have debated great questions amid great strife, and have done great things. \\n\\nWe have fought for freedom, expanded liberty, defeated totalitarianism and terror. \\n\\nAnd built the strongest, freest, and most prosperous nation the world has ever known. \\n\\nNow is the hour. \\n\\nOur moment of responsibility. \\n\\nOur test of resolve and conscience, of history itself. \\n\\nIt is in this moment that our character is formed. Our purpose is found. Our future is forged. \\n\\nWell I know this nation.\\nSource: 34-pl\\n=========\\nFINAL ANSWER: The president did not mention Michael Jackson.\\nSOURCES:\\n\\nQUESTION: what is Random Forest?\\n=========\\nContent: \\nRandom Forest is a supervised machine-learning algorithm made up of decision trees. Random Forest is used for both classification and regression problems.\\nSource: https://www.analyticsvidhya.com/blog/2021/06/understanding-random-forest/\\n\\nContent:  \\nRandom forest is an ensemble learning algorithm that uses a collection of decision trees to make predictions. Each decision tree is trained on a different subset of the data, and the predictions of all the trees are averaged to produce the final prediction. This makes random forest very robust to overfitting and able to handle complex relationships between the features and the target variable.\\nSource: https://www.analyticsvidhya.com/blog/2021/06/understanding-random-forest/\\n\\nContent:  \\n\\\"Random forest is an ensemble machine learning technique that averages several decision trees on different parts of the same training set, with the objective of overcoming the overfitting problem of the individual decision trees.\\\"\\nSource: https://www.analyticsvidhya.com/blog/2021/05/bagging-25-questions-to-test-your-skills-on-random-forest-algorithm/\\n\\nContent:  \\nRandom Forest is a popular machine learning algorithm used for classification and regression tasks due to its high accuracy, robustness, feature importance, versatility, and scalability. Random Forest reduces overfitting by averaging multiple decision trees and is less sensitive to noise and outliers in the data.\\nSource: https://www.analyticsvidhya.com/blog/2021/06/understanding-random-forest/\\n=========\\nFINAL ANSWER:\"\n",
            "  ]\n",
            "}\n",
            "\u001b[36;1m\u001b[1;3m[llm/end]\u001b[0m \u001b[1m[1:chain:RetrievalQAWithSourcesChain > 3:chain:MapReduceDocumentsChain > 9:chain:LLMChain > 10:llm:OpenAI] [2.50s] Exiting LLM run with output:\n",
            "\u001b[0m{\n",
            "  \"generations\": [\n",
            "    [\n",
            "      {\n",
            "        \"text\": \" Random Forest is a supervised machine-learning algorithm made up of decision trees used for both classification and regression problems, that is robust to overfitting and able to handle complex relationships between the features and the target variable.\\nSOURCES: \\nhttps://www.analyticsvidhya.com/blog/2021/06/understanding-random-forest/\\nhttps://www.analyticsvidhya.com/blog/2021/05/bagging-25-questions-to-test-your-skills-on-random-forest-algorithm/\",\n",
            "        \"generation_info\": {\n",
            "          \"finish_reason\": \"stop\",\n",
            "          \"logprobs\": null\n",
            "        }\n",
            "      }\n",
            "    ]\n",
            "  ],\n",
            "  \"llm_output\": {\n",
            "    \"token_usage\": {\n",
            "      \"completion_tokens\": 120,\n",
            "      \"prompt_tokens\": 1848,\n",
            "      \"total_tokens\": 1968\n",
            "    },\n",
            "    \"model_name\": \"text-davinci-003\"\n",
            "  },\n",
            "  \"run\": null\n",
            "}\n",
            "\u001b[36;1m\u001b[1;3m[chain/end]\u001b[0m \u001b[1m[1:chain:RetrievalQAWithSourcesChain > 3:chain:MapReduceDocumentsChain > 9:chain:LLMChain] [2.50s] Exiting Chain run with output:\n",
            "\u001b[0m{\n",
            "  \"text\": \" Random Forest is a supervised machine-learning algorithm made up of decision trees used for both classification and regression problems, that is robust to overfitting and able to handle complex relationships between the features and the target variable.\\nSOURCES: \\nhttps://www.analyticsvidhya.com/blog/2021/06/understanding-random-forest/\\nhttps://www.analyticsvidhya.com/blog/2021/05/bagging-25-questions-to-test-your-skills-on-random-forest-algorithm/\"\n",
            "}\n",
            "\u001b[36;1m\u001b[1;3m[chain/end]\u001b[0m \u001b[1m[1:chain:RetrievalQAWithSourcesChain > 3:chain:MapReduceDocumentsChain] [4.06s] Exiting Chain run with output:\n",
            "\u001b[0m{\n",
            "  \"output_text\": \" Random Forest is a supervised machine-learning algorithm made up of decision trees used for both classification and regression problems, that is robust to overfitting and able to handle complex relationships between the features and the target variable.\\nSOURCES: \\nhttps://www.analyticsvidhya.com/blog/2021/06/understanding-random-forest/\\nhttps://www.analyticsvidhya.com/blog/2021/05/bagging-25-questions-to-test-your-skills-on-random-forest-algorithm/\"\n",
            "}\n",
            "\u001b[36;1m\u001b[1;3m[chain/end]\u001b[0m \u001b[1m[1:chain:RetrievalQAWithSourcesChain] [4.99s] Exiting Chain run with output:\n",
            "\u001b[0m{\n",
            "  \"answer\": \" Random Forest is a supervised machine-learning algorithm made up of decision trees used for both classification and regression problems, that is robust to overfitting and able to handle complex relationships between the features and the target variable.\\n\",\n",
            "  \"sources\": \"\"\n",
            "}\n"
          ]
        },
        {
          "output_type": "execute_result",
          "data": {
            "text/plain": [
              "' Random Forest is a supervised machine-learning algorithm made up of decision trees used for both classification and regression problems, that is robust to overfitting and able to handle complex relationships between the features and the target variable.\\n'"
            ],
            "application/vnd.google.colaboratory.intrinsic+json": {
              "type": "string"
            }
          },
          "metadata": {},
          "execution_count": 30
        }
      ]
    },
    {
      "cell_type": "code",
      "source": [
        "query = \"what is the difference between Random Forest and Decision Tree?\"\n",
        "\n",
        "\n",
        "chain({\"question\": query}, return_only_outputs=True)"
      ],
      "metadata": {
        "colab": {
          "base_uri": "https://localhost:8080/"
        },
        "id": "e3-P5FwYjQnX",
        "outputId": "5b92b477-8218-424d-c4d9-057194d4f6c4"
      },
      "execution_count": 85,
      "outputs": [
        {
          "output_type": "execute_result",
          "data": {
            "text/plain": [
              "{'answer': ' The main difference between Random Forest and Decision Tree is that Random Forest is a bagging method that uses a subset of the original dataset to make predictions and this property of Random Forest helps to overcome Overfitting, while Decision trees suffer from the problem of Overfitting if it’s allowed to grow without any control.\\n',\n",
              " 'sources': ''}"
            ]
          },
          "metadata": {},
          "execution_count": 85
        }
      ]
    },
    {
      "cell_type": "code",
      "source": [
        "query = \"what is the difference between Random Forest and Decision Tree?\"\n",
        "\n",
        "\n",
        "chain({\"question\": query}, return_only_outputs=True)"
      ],
      "metadata": {
        "id": "-HYs0A-QtKeb"
      },
      "execution_count": null,
      "outputs": []
    },
    {
      "cell_type": "code",
      "source": [
        "query = \"What are the advantages of Random Forest?\"\n",
        "langchain.debug = False\n",
        "chain({\"question\": query}, return_only_outputs=True)"
      ],
      "metadata": {
        "colab": {
          "base_uri": "https://localhost:8080/"
        },
        "id": "uvyERFPotYZR",
        "outputId": "a7e026cf-dac6-4962-b153-27a9d8ffebde"
      },
      "execution_count": 32,
      "outputs": [
        {
          "output_type": "execute_result",
          "data": {
            "text/plain": [
              "{'answer': ' The advantages of the Random Forest algorithm are flexibility, better results without hyperparameter tuning, low bias and low variance, and ability to handle unbalanced data and missing values. The disadvantages of Random Forest are not good at generalizing cases with completely new data and biased towards categorical variables with multiple levels.\\n',\n",
              " 'sources': ''}"
            ]
          },
          "metadata": {},
          "execution_count": 32
        }
      ]
    },
    {
      "cell_type": "code",
      "source": [
        "def evaluate_with_openai(topic, chain):\n",
        "  q_ls = question_df[question_df['Topic'] == topic]['Question'].to_list()\n",
        "  q_df = {}\n",
        "  q_df['questions'] = q_ls\n",
        "  q_df['predictions'], q_df['real answers'] = [],[]\n",
        "  for q in q_ls:\n",
        "    q_df['predictions'].append(chain({\"question\": q}, return_only_outputs=True)['answer'])\n",
        "    q_df['real answers'].append(ask_openai(q))\n",
        "  examples = [{'query': q, 'answer': a} for q, a in zip(q_df['questions'], q_df['real answers'])]\n",
        "\n",
        "  predictions = [{'query': q, 'answer': a, 'result': p} for q, a, p in zip(q_df['questions'], q_df['real answers'], q_df['predictions'])]\n",
        "  eval_chain = QAEvalChain.from_llm(llm)\n",
        "  graded_outputs = eval_chain.evaluate(examples, predictions)\n",
        "  return q_df\n",
        "  print(graded_outputs)"
      ],
      "metadata": {
        "id": "36eU3slchQH2"
      },
      "execution_count": 45,
      "outputs": []
    },
    {
      "cell_type": "code",
      "source": [
        "def __main__(topic, pages_num):\n",
        "  blog_links = get_links_from_website(topic, 1)\n",
        "  url_data = get_url_data(blog_links)\n",
        "  url_docs = split_data(r_splitter, url_data)\n",
        "  vector_index = get_embeddings(open_ai_embeddings, url_docs)\n",
        "  faiss_retriever = FaissRetriever(vector_index , url_docs)\n",
        "  chain = RetrievalQAWithSourcesChain.from_llm(llm=llm, retriever=vector_index.as_retriever())\n",
        "  result_df = evaluate_with_openai(topic, chain)\n",
        "  return result_df"
      ],
      "metadata": {
        "id": "sv6jPphQhTCY"
      },
      "execution_count": 46,
      "outputs": []
    }
  ]
}